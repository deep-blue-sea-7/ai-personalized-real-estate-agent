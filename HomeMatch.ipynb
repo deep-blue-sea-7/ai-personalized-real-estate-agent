{
 "cells": [
  {
   "cell_type": "markdown",
   "id": "bcb86f09-7405-4f1f-8cf8-fb13bb8045c1",
   "metadata": {},
   "source": [
    "# HomeMatch: The AI Personalized Real Estate Agent \n",
    "\n",
    "\n",
    "## *About*\n",
    "\n",
    "This application leverages large language models (LLMs) and vector databases to transform standard real estate listings into personalized narratives that resonate with potential buyers' unique preferences and needs.\n",
    "\n",
    "## *High level process description*\n",
    "\n",
    "\n",
    "#### <u>Step 1: Setting Up the Python Application</u>\n",
    "\n",
    "Install necessary packages: \n",
    "- LLM library: OpenAI's GPT\n",
    "- LangChain\n",
    "- Vector database package: ChromaDB\n",
    "\n",
    "#### <u>Step 2: Generating Real Estate Listings</u>\n",
    "\n",
    "Generate real estate listings using a Large Language Model through creating prompts for the LLM to produce descriptions of various properties. \n",
    "\n",
    "These listings will be used to populate the database for testing and development of the HomeMatch application.\n",
    "\n",
    "#### <u>Step 3: Storing Listings in a Vector Database</u>\n",
    "\n",
    "Initialize and configure ChromaDB vector database to store the real estate listings, the convert the LLM-generated listings into suitable embeddings that capture the semantic content of each listing, and store these embeddings in the vector database.\n",
    "\n",
    "#### <u>Step 4: Building the User Preference Interface</u>\n",
    "\n",
    "Collect buyer preferences, such as the number of bedrooms, bathrooms, location, and other specific requirements from a set of questions. The questions/answers can be hard-coded in the buyer preferences.\n",
    "\n",
    "Implement logic to interpret and structure these preferences for querying the vector database.\n",
    "\n",
    "#### <u>Step 5: Searching Based on Preferences</u>\n",
    "\n",
    "Implement Semantic Search: Use the structured buyer preferences to perform a semantic search on the vector database, retrieving listings that most closely match the user's requirements.\n",
    "Listing Retrieval Logic: Fine-tune the retrieval algorithm to ensure that the most relevant listings are selected based on the semantic closeness to the buyer’s preferences.\n",
    "\n",
    "#### <u>Step 6: Personalizing Listing Descriptions</u>\n",
    "\n",
    "LLM Augmentation: For each retrieved listing, use the LLM to augment the description, tailoring it to resonate with the buyer’s specific preferences. This involves subtly emphasizing aspects of the property that align with what the buyer is looking for.\n",
    "\n",
    "Maintaining Factual Integrity: Ensure that the augmentation process enhances the appeal of the listing without altering factual information.\n"
   ]
  },
  {
   "cell_type": "markdown",
   "id": "a108af04",
   "metadata": {},
   "source": [
    "# Imports"
   ]
  },
  {
   "cell_type": "code",
   "execution_count": 1,
   "id": "6554fd4c",
   "metadata": {},
   "outputs": [],
   "source": [
    "from langchain.llms import OpenAI\n",
    "from langchain.embeddings.openai import OpenAIEmbeddings\n",
    "from langchain.prompts import PromptTemplate\n",
    "from langchain.document_loaders.csv_loader import CSVLoader\n",
    "from langchain.text_splitter import CharacterTextSplitter\n",
    "from langchain_community.vectorstores import Chroma\n",
    "from langchain.memory import ConversationSummaryMemory, ConversationBufferMemory, CombinedMemory, ChatMessageHistory\n",
    "from langchain.chains import ConversationChain\n",
    "\n",
    "import pandas as pd\n",
    "import json\n",
    "import os\n",
    "from typing import Any, Dict\n",
    "\n"
   ]
  },
  {
   "cell_type": "markdown",
   "id": "e6a2a4f2-756a-4976-bbcb-a90c514a1dba",
   "metadata": {},
   "source": [
    "# 1) Generate Real Estate Listings with a LLM"
   ]
  },
  {
   "cell_type": "code",
   "execution_count": null,
   "id": "dcec1846-8b96-4ce4-b41a-3b5a55c968ee",
   "metadata": {},
   "outputs": [],
   "source": [
    "credentials = {}\n",
    "try:\n",
    "    with open('credentials.json') as file:\n",
    "        credentials = json.load(file)\n",
    "except FileNotFoundError:\n",
    "    print(\"Error: file credentials.json was not found.\")\n",
    "\n",
    "api_key = credentials['OpenAIAPIKey']\n",
    "print(api_key)\n",
    "\n",
    "os.environ['OPENAI_API_KEY'] = api_key\n"
   ]
  },
  {
   "cell_type": "code",
   "execution_count": 3,
   "id": "299f0f46-f1cc-4704-9bdd-6cf3dddb4bde",
   "metadata": {
    "scrolled": true
   },
   "outputs": [
    {
     "name": "stderr",
     "output_type": "stream",
     "text": [
      "/Users/badiaa/Perso/Edu/AI/udacity/chatbot2/chatbot2env/lib/python3.10/site-packages/langchain_community/llms/openai.py:253: UserWarning: You are trying to use a chat model. This way of initializing it is no longer supported. Instead, please use: `from langchain_community.chat_models import ChatOpenAI`\n",
      "  warnings.warn(\n",
      "/Users/badiaa/Perso/Edu/AI/udacity/chatbot2/chatbot2env/lib/python3.10/site-packages/langchain_community/llms/openai.py:1076: UserWarning: You are trying to use a chat model. This way of initializing it is no longer supported. Instead, please use: `from langchain_community.chat_models import ChatOpenAI`\n",
      "  warnings.warn(\n",
      "/Users/badiaa/Perso/Edu/AI/udacity/chatbot2/chatbot2env/lib/python3.10/site-packages/langchain_core/_api/deprecation.py:139: LangChainDeprecationWarning: The method `BaseLLM.__call__` was deprecated in langchain-core 0.1.7 and will be removed in 0.3.0. Use invoke instead.\n",
      "  warn_deprecated(\n"
     ]
    },
    {
     "name": "stdout",
     "output_type": "stream",
     "text": [
      "Neighborhood,Price,Bedrooms,Bathrooms,House Size,Description,Neighborhood Description\n",
      "Willow Creek,\"$750,000\",4,3,\"2,500 sqft\",\"Step into this spacious 4-bedroom, 3-bathroom home located in the serene neighborhood of Willow Creek. This property features a newly renovated kitchen with stainless steel appliances, a cozy fireplace in the living room, and a large deck overlooking the lush backyard. With ample natural light and a functional layout, this home is perfect for families looking for comfort and style.\",\"Willow Creek offers a peaceful setting with tree-lined streets and easy access to parks and walking trails. Enjoy the convenience of nearby shopping centers and restaurants, as well as top-rated schools in the area.\"\n",
      "Sunset Hills,\"$900,000\",5,4,\"3,000 sqft\",\"Welcome to this stunning 5-bedroom, 4-bathroom home in the prestigious neighborhood of Sunset Hills. This property boasts a grand entrance, high ceilings, and a gourmet kitchen with granite countertops and top-of-the-line appliances. The master suite features a luxurious bathroom with a soaking tub and a walk-in closet. Relax in the backyard oasis with a sparkling pool and mountain views.\",\"Sunset Hills is known for its upscale living and scenic views. Residents can enjoy nearby golf courses, hiking trails, and fine dining options. With easy access to highways and public transportation, commuting to the city is a breeze.\"\n",
      "Riverfront Estates,\"$1,200,000\",6,5,\"4,500 sqft\",\"Luxury awaits in this 6-bedroom, 5-bathroom home located in the exclusive neighborhood of Riverfront Estates. This property features a grand foyer, a chef's kitchen with high-end appliances, and a spacious master suite with a private balcony overlooking the river. The backyard is an entertainer's dream with a built-in BBQ area, fire pit, and a private dock for boating enthusiasts.\",\"Riverfront Estates offers a luxurious lifestyle with waterfront views and access to boating and fishing activities. Residents can enjoy the nearby marina, upscale restaurants, and boutique shops. With easy access to major highways, this neighborhood is perfect for those seeking a blend of luxury and convenience.\"\n",
      "Mountain View Terrace,\"$650,000\",3,2,\"1,800 sqft\",\"Discover this charming 3-bedroom, 2-bathroom home in the desirable neighborhood of Mountain View Terrace. This property features a bright and airy living room with a cozy fireplace, a renovated kitchen with granite countertops, and a spacious backyard with mountain views. The master bedroom offers a peaceful retreat with a private patio and en-suite bathroom.\",\"Mountain View Terrace is a picturesque neighborhood with scenic views of the mountains and easy access to hiking trails and outdoor activities. Residents can enjoy the community park, playground, and picnic areas, making it an ideal location for nature lovers.\"\n",
      "Downtown Loft District,\"$500,000\",2,1,\"1,200 sqft\",\"Live in the heart of the city in this stylish 2-bedroom, 1-bathroom loft located in the vibrant Downtown Loft District. This property features an open floor plan with exposed brick walls, high ceilings, and industrial-style finishes. The loft offers a modern kitchen with stainless steel appliances, a rooftop patio with city views, and a designated parking space in the underground garage.\",\"Downtown Loft District is a bustling urban neighborhood with trendy restaurants, art galleries, and nightlife hotspots. Residents can walk to nearby cafes, shops, and entertainment venues, as well as easily access public transportation for commuting to work or exploring the city.\"\n",
      "Lakefront Retreat,\"$1,500,000\",4,3,\"3,500 sqft\",\"Escape to this luxurious 4-bedroom, 3-bathroom home situated on the shores of the tranquil Lakefront Retreat. This property features a gourmet kitchen with custom cabinetry, a spacious living room with a stone fireplace, and a private dock for boating and water sports. The master suite offers panoramic lake views and a spa-like bathroom with a soaking tub and dual vanities.\",\"Lakefront Retreat is a serene waterfront community with access to boating, fishing, and water activities. Residents can enjoy the private beach, community pool, and clubhouse, as well as nearby hiking trails and nature reserves. With easy access to highways and shopping centers, this neighborhood offers a perfect blend of relaxation and convenience.\"\n",
      "Pinehurst Heights,\"$800,000\",3,2,\"2,000 sqft\",\"Nestled in the peaceful neighborhood of Pinehurst Heights, this 3-bedroom, 2-bathroom home offers a cozy retreat with modern amenities. The property features a renovated kitchen with quartz countertops, a sunlit living room with a fireplace, and a spacious backyard with a deck and garden. The master bedroom boasts a walk-in closet and an en-suite bathroom with a dual vanity.\",\"Pinehurst Heights is a family-friendly neighborhood with tree-lined streets and parks for outdoor recreation. Residents can enjoy the nearby community center, playgrounds, and walking trails, as well as easy access to schools and shopping centers.\"\n",
      "Oceanfront Paradise,\"$2,000,000\",5,4,\"4,000 sqft\",\"Experience luxury living in this 5-bedroom, 4-bathroom home located in the exclusive neighborhood of Oceanfront Paradise. This property features a gourmet kitchen with high-end appliances, a grand living room with ocean views, and a private balcony off the master suite. The backyard is a tropical oasis with a pool, spa, and outdoor kitchen for entertaining guests.\",\"Oceanfront Paradise offers a prestigious coastal lifestyle with direct beach access and stunning ocean views. Residents can enjoy the nearby marina, yacht club, and upscale dining options, as well as easy access to shopping centers and entertainment venues. With top-rated schools and recreational facilities in the area, this neighborhood is perfect for those seeking a luxurious seaside retreat.\"\n",
      "Sunrise Meadows,\"$700,000\",4,3,\"2,300 sqft\",\"Welcome home to this spacious 4-bedroom, 3-bathroom property in the charming neighborhood of Sunrise Meadows. This home features a bright and open floor plan with a gourmet kitchen, a cozy fireplace in the family room, and a private backyard with a patio and garden. The master suite offers a peaceful sanctuary with a spa-like bathroom and a walk-in closet.\",\"Sunrise Meadows is a family-friendly community with parks, playgrounds, and walking trails for outdoor activities. Residents can enjoy the nearby shopping centers, restaurants, and schools, as well as easy access to highways and public transportation for commuting to work or exploring the city.\"\n",
      "Hillside Retreat,\"$850,000\",3,2,\"2,200 sqft\",\"Discover this charming 3-bedroom, 2-bathroom home nestled in the tranquil neighborhood of Hillside Retreat. This property features a renovated kitchen with granite countertops, a spacious living room with a fireplace, and a private deck overlooking the scenic hillside. The master bedroom offers a relaxing retreat with a spa-like bathroom and a walk-in closet.\",\"Hillside Retreat is a peaceful enclave with tree-lined streets and easy access to hiking trails and nature reserves. Residents can enjoy the nearby community park, playground, and picnic areas, as well as top-rated schools and shopping centers in the area.\"\n",
      "Riverside Gardens,\"$950,000\",4,3,\"2,800 sqft\",\"Live in luxury in this 4-bedroom, 3-bathroom home located in the prestigious neighborhood of Riverside Gardens. This property features a grand entrance, high ceilings, and a gourmet kitchen with top-of-the-line appliances. The master suite offers a private balcony with river views, a spa-like bathroom, and a walk-in closet. The backyard is an entertainer's dream with a pool, spa, and outdoor kitchen.\",\"Riverside Gardens offers upscale living with waterfront views and access to boating and fishing activities. Residents can enjoy the nearby marina, yacht club, and fine dining options, as well as easy access to shopping centers and entertainment venues. With top-rated schools and recreational facilities in the area, this neighborhood is perfect for those seeking a blend of luxury and convenience.\"\n",
      "Maple Grove,\"$600,000\",3,2,\"1,700 sqft\",\"Step into this charming 3-bedroom, 2-bathroom home located in the desirable neighborhood of Maple Grove. This property features a renovated kitchen with quartz countertops, a cozy fireplace in the living room, and a private backyard with a deck and garden. The master bedroom offers a peaceful retreat with a spa-like bathroom and a walk-in closet.\",\"Maple Grove is a family-friendly community with tree-lined streets and parks for outdoor recreation. Residents can enjoy the nearby community center, playgrounds, and walking trails, as well as easy access to schools and shopping centers.\"\n",
      "Harbor View,\"$1,100,000\",5,4,\"3,200 sqft\",\"Luxury awaits in this 5-bedroom, 4-bathroom home located in the exclusive neighborhood of Harbor View. This property features a grand foyer, high ceilings, and a gourmet kitchen with top-of-the-line appliances. The master suite offers a private balcony with harbor views, a spa-like bathroom, and a walk-in closet. The backyard is an entertainer's dream with a pool, spa, and outdoor kitchen.\",\"Harbor View offers upscale living with waterfront views and access to boating and fishing activities. Residents can enjoy the nearby marina, yacht club, and fine dining options, as well as easy access to shopping centers and entertainment venues. With top-rated schools and recreational facilities in the area, this neighborhood is perfect for those seeking a blend of luxury and convenience.\"\n",
      "Meadowbrook Estates,\"$750,000\",4,3,\"2,500 sqft\",\"Discover this spacious 4-bedroom, 3-bathroom home located in the peaceful neighborhood of Meadowbrook Estates. This property features a gourmet kitchen with granite countertops, a cozy fireplace in the living room, and a private backyard with a patio and garden. The master suite offers a relaxing retreat with a spa-like bathroom and a walk-in closet.\",\"Meadowbrook Estates is a family-friendly community with parks, playgrounds, and walking trails for outdoor activities. Residents can enjoy the nearby shopping centers, restaurants, and schools, as well as easy access to highways and public transportation for commuting to work or exploring the city.\"\n"
     ]
    }
   ],
   "source": [
    "model=\"gpt-3.5-turbo\"\n",
    "temperature = 0.0\n",
    "\n",
    "llm = OpenAI(\n",
    "    model_name=model, \n",
    "    temperature=temperature, \n",
    "    max_tokens=4000, \n",
    ")\n",
    "\n",
    "prompt_template='''\n",
    "Generate a CSV file that contains {num_listings} unique property listings with each listing tabulating the following attributes:\n",
    "\n",
    "1- Neighborhood: Specify the name of the neighborhood where the property is located.\n",
    "2- Price: Specify the property's price.\n",
    "3- Bedrooms: Specify the number bedrooms.\n",
    "4- Bathrooms: Specify the property's bathrooms.\n",
    "5- House Size: Specify the property's square footage.\n",
    "6- Description: Craft a distinguished description of the property that showcases its appeal and charm, and lists features such as: a new roof, an upgraded kitchen, energy efficient appliances, solar roof, water or mountain views, car garage, fireplace, patio, deck, large backyard, garden.\n",
    "7- Neighborhood Description: Craft a description of the neighborhood and what it offers in terms of amenities and community such as: bike-friendly roads, parks, public gardens, restaurants, organic stores, easy access to highways, bus or train transporation, low noise levels.\n",
    "\n",
    "Here is a sample listing entry format with the header:\n",
    "[Neighborhood,Price,Bedrooms,Bathrooms,House Size,Description,Neighborhood Description],\n",
    "[Green Oaks,\"$800,000\",3,2,\"2,000 sqft\",\"Welcome to this eco-friendly oasis nestled in the heart of Green Oaks. This charming 3-bedroom, 2-bathroom home boasts energy-efficient features such as solar panels and a well-insulated structure. Natural light floods the living spaces, highlighting the beautiful hardwood floors and eco-conscious finishes. The open-concept kitchen and dining area lead to a spacious backyard with a vegetable garden, perfect for the eco-conscious family. Embrace sustainable living without compromising on style in this Green Oaks gem.\",\"Green Oaks is a close-knit, environmentally-conscious community with access to organic grocery stores, community gardens, and bike paths. Take a stroll through the nearby Green Oaks Park or grab a cup of coffee at the cozy Green Bean Cafe. With easy access to public transportation and bike lanes, commuting is a breeze.\"],\n",
    "'''\n",
    "\n",
    "prompt = PromptTemplate.from_template(prompt_template)\n",
    "\n",
    "listings = llm(prompt.format(num_listings = 15))\n",
    "print(listings)\n",
    "\n"
   ]
  },
  {
   "cell_type": "code",
   "execution_count": 4,
   "id": "5a848c9d-c9d2-4b4b-ae87-b03fe575ba16",
   "metadata": {},
   "outputs": [],
   "source": [
    "# Save the resulting listings in a csv\n",
    "\n",
    "with open('listings.csv','w') as file:\n",
    "    for line in listings:\n",
    "        file.write(line)\n"
   ]
  },
  {
   "cell_type": "code",
   "execution_count": 5,
   "id": "c6b45ee2-efb1-495f-8dc5-1748b038248d",
   "metadata": {},
   "outputs": [
    {
     "data": {
      "text/html": [
       "<div>\n",
       "<style scoped>\n",
       "    .dataframe tbody tr th:only-of-type {\n",
       "        vertical-align: middle;\n",
       "    }\n",
       "\n",
       "    .dataframe tbody tr th {\n",
       "        vertical-align: top;\n",
       "    }\n",
       "\n",
       "    .dataframe thead th {\n",
       "        text-align: right;\n",
       "    }\n",
       "</style>\n",
       "<table border=\"1\" class=\"dataframe\">\n",
       "  <thead>\n",
       "    <tr style=\"text-align: right;\">\n",
       "      <th></th>\n",
       "      <th>Neighborhood</th>\n",
       "      <th>Price</th>\n",
       "      <th>Bedrooms</th>\n",
       "      <th>Bathrooms</th>\n",
       "      <th>House Size</th>\n",
       "      <th>Description</th>\n",
       "      <th>Neighborhood Description</th>\n",
       "    </tr>\n",
       "  </thead>\n",
       "  <tbody>\n",
       "    <tr>\n",
       "      <th>0</th>\n",
       "      <td>Willow Creek</td>\n",
       "      <td>$750,000</td>\n",
       "      <td>4</td>\n",
       "      <td>3</td>\n",
       "      <td>2,500 sqft</td>\n",
       "      <td>Step into this spacious 4-bedroom, 3-bathroom ...</td>\n",
       "      <td>Willow Creek offers a peaceful setting with tr...</td>\n",
       "    </tr>\n",
       "    <tr>\n",
       "      <th>1</th>\n",
       "      <td>Sunset Hills</td>\n",
       "      <td>$900,000</td>\n",
       "      <td>5</td>\n",
       "      <td>4</td>\n",
       "      <td>3,000 sqft</td>\n",
       "      <td>Welcome to this stunning 5-bedroom, 4-bathroom...</td>\n",
       "      <td>Sunset Hills is known for its upscale living a...</td>\n",
       "    </tr>\n",
       "    <tr>\n",
       "      <th>2</th>\n",
       "      <td>Riverfront Estates</td>\n",
       "      <td>$1,200,000</td>\n",
       "      <td>6</td>\n",
       "      <td>5</td>\n",
       "      <td>4,500 sqft</td>\n",
       "      <td>Luxury awaits in this 6-bedroom, 5-bathroom ho...</td>\n",
       "      <td>Riverfront Estates offers a luxurious lifestyl...</td>\n",
       "    </tr>\n",
       "    <tr>\n",
       "      <th>3</th>\n",
       "      <td>Mountain View Terrace</td>\n",
       "      <td>$650,000</td>\n",
       "      <td>3</td>\n",
       "      <td>2</td>\n",
       "      <td>1,800 sqft</td>\n",
       "      <td>Discover this charming 3-bedroom, 2-bathroom h...</td>\n",
       "      <td>Mountain View Terrace is a picturesque neighbo...</td>\n",
       "    </tr>\n",
       "    <tr>\n",
       "      <th>4</th>\n",
       "      <td>Downtown Loft District</td>\n",
       "      <td>$500,000</td>\n",
       "      <td>2</td>\n",
       "      <td>1</td>\n",
       "      <td>1,200 sqft</td>\n",
       "      <td>Live in the heart of the city in this stylish ...</td>\n",
       "      <td>Downtown Loft District is a bustling urban nei...</td>\n",
       "    </tr>\n",
       "  </tbody>\n",
       "</table>\n",
       "</div>"
      ],
      "text/plain": [
       "             Neighborhood       Price  Bedrooms  Bathrooms  House Size  \\\n",
       "0            Willow Creek    $750,000         4          3  2,500 sqft   \n",
       "1            Sunset Hills    $900,000         5          4  3,000 sqft   \n",
       "2      Riverfront Estates  $1,200,000         6          5  4,500 sqft   \n",
       "3   Mountain View Terrace    $650,000         3          2  1,800 sqft   \n",
       "4  Downtown Loft District    $500,000         2          1  1,200 sqft   \n",
       "\n",
       "                                         Description  \\\n",
       "0  Step into this spacious 4-bedroom, 3-bathroom ...   \n",
       "1  Welcome to this stunning 5-bedroom, 4-bathroom...   \n",
       "2  Luxury awaits in this 6-bedroom, 5-bathroom ho...   \n",
       "3  Discover this charming 3-bedroom, 2-bathroom h...   \n",
       "4  Live in the heart of the city in this stylish ...   \n",
       "\n",
       "                            Neighborhood Description  \n",
       "0  Willow Creek offers a peaceful setting with tr...  \n",
       "1  Sunset Hills is known for its upscale living a...  \n",
       "2  Riverfront Estates offers a luxurious lifestyl...  \n",
       "3  Mountain View Terrace is a picturesque neighbo...  \n",
       "4  Downtown Loft District is a bustling urban nei...  "
      ]
     },
     "execution_count": 5,
     "metadata": {},
     "output_type": "execute_result"
    }
   ],
   "source": [
    "df=pd.read_csv('listings.csv')\n",
    "df.head()"
   ]
  },
  {
   "cell_type": "markdown",
   "id": "e2cb47c9-83b6-4a99-8e89-515ba6943b2f",
   "metadata": {},
   "source": [
    "# 2) Semantic Search"
   ]
  },
  {
   "cell_type": "markdown",
   "id": "87690f42-a92d-4446-a457-511a2752c916",
   "metadata": {},
   "source": [
    "## a) Create a Vector Database and Store the Listings"
   ]
  },
  {
   "cell_type": "code",
   "execution_count": 6,
   "id": "2aeee67c-3ef2-4450-bbb7-17e70efc7b21",
   "metadata": {},
   "outputs": [],
   "source": [
    "# Load the CSV document\n",
    "file_path = \"listings.csv\"\n",
    "loader = CSVLoader(file_path=file_path)\n",
    "docs = loader.load()\n",
    "# print docs"
   ]
  },
  {
   "cell_type": "code",
   "execution_count": 7,
   "id": "f8283ad8-787b-4dd6-9e5f-f9991441c441",
   "metadata": {},
   "outputs": [],
   "source": [
    "# Use a Text Splitter to split the documents into chunks\n",
    "splitter = CharacterTextSplitter(chunk_size=1000, chunk_overlap=0)\n",
    "split_docs = splitter.split_documents(docs)"
   ]
  },
  {
   "cell_type": "code",
   "execution_count": 8,
   "id": "b83d7cae-5a7d-4b56-94bf-260cc4d28340",
   "metadata": {},
   "outputs": [
    {
     "name": "stderr",
     "output_type": "stream",
     "text": [
      "/Users/badiaa/Perso/Edu/AI/udacity/chatbot2/chatbot2env/lib/python3.10/site-packages/langchain_core/_api/deprecation.py:139: LangChainDeprecationWarning: The class `OpenAIEmbeddings` was deprecated in LangChain 0.0.9 and will be removed in 0.3.0. An updated version of the class exists in the langchain-openai package and should be used instead. To use it run `pip install -U langchain-openai` and import as `from langchain_openai import OpenAIEmbeddings`.\n",
      "  warn_deprecated(\n"
     ]
    }
   ],
   "source": [
    "# Initialize the embeddings model\n",
    "embeddings = OpenAIEmbeddings()"
   ]
  },
  {
   "cell_type": "code",
   "execution_count": 9,
   "id": "b6c9248b-6c71-4157-99d0-48da9fb6794d",
   "metadata": {},
   "outputs": [],
   "source": [
    "# Populate the vector database with the chunks\n",
    "db = Chroma.from_documents(split_docs, embeddings)"
   ]
  },
  {
   "cell_type": "code",
   "execution_count": 10,
   "id": "8481e411-9063-4027-88fa-059950f98e9b",
   "metadata": {},
   "outputs": [
    {
     "name": "stderr",
     "output_type": "stream",
     "text": [
      "/Users/badiaa/Perso/Edu/AI/udacity/chatbot2/chatbot2env/lib/python3.10/site-packages/langchain_community/llms/openai.py:253: UserWarning: You are trying to use a chat model. This way of initializing it is no longer supported. Instead, please use: `from langchain_community.chat_models import ChatOpenAI`\n",
      "  warnings.warn(\n",
      "/Users/badiaa/Perso/Edu/AI/udacity/chatbot2/chatbot2env/lib/python3.10/site-packages/langchain_community/llms/openai.py:1076: UserWarning: You are trying to use a chat model. This way of initializing it is no longer supported. Instead, please use: `from langchain_community.chat_models import ChatOpenAI`\n",
      "  warnings.warn(\n"
     ]
    }
   ],
   "source": [
    "# Define the LLM\n",
    "model_name = \"gpt-3.5-turbo\"\n",
    "llm = OpenAI(model_name=model_name, temperature=0, max_tokens=2000)"
   ]
  },
  {
   "cell_type": "markdown",
   "id": "2a98551f-c231-4728-9590-031f86f753c0",
   "metadata": {},
   "source": [
    "## b) Build the Semantic Search of Listings Based on Buyer's Preferences"
   ]
  },
  {
   "cell_type": "code",
   "execution_count": 19,
   "id": "78df6a73-8132-4bf7-a942-ec842bff8d8c",
   "metadata": {},
   "outputs": [],
   "source": [
    "# Simulate a buyer's questions and answers\n",
    "\n",
    "questions = [\n",
    "    \"How big do you want your house to be?\"\n",
    "    \"What are 3 most important things for you in choosing this property?\",\n",
    "    \"Which amenities would you like?\",\n",
    "    \"Which transportation options are important to you?\",\n",
    "    \"How urban do you want your neighborhood to be?\",\n",
    "]\n",
    "answers = [\n",
    "    \"A comfortable three-bedroom house with a spacious kitchen and a cozy living room.\",\n",
    "    \"A quiet neighborhood, good local schools, and convenient shopping options.\",\n",
    "    \"A backyard for gardening, a two-car garage, and a modern, energy-efficient heating system.\",\n",
    "    \"Easy access to a reliable bus line, proximity to a major highway, and bike-friendly roads.\",\n",
    "    \"A balance between suburban tranquility and access to urban amenities like restaurants and theaters.\",\n",
    "]\n",
    "    "
   ]
  },
  {
   "cell_type": "code",
   "execution_count": 20,
   "id": "d99e0cd0-46fb-434e-b680-7e90a5a2c773",
   "metadata": {},
   "outputs": [],
   "source": [
    "history = ChatMessageHistory()\n",
    "history.add_user_message(f\"\"\"You are AI that will recommend user a new home based on their answers to questions about their home preferences. Ask the user {len(questions)} questions\"\"\")\n",
    "for i in range(len(questions)):\n",
    "    history.add_ai_message(questions[i])\n",
    "    history.add_user_message(answers[i])"
   ]
  },
  {
   "cell_type": "code",
   "execution_count": 21,
   "id": "a50d7935-a5fe-41a7-9943-7319d7559821",
   "metadata": {},
   "outputs": [],
   "source": [
    "max_rating = 100\n",
    "\n",
    "summary_memory = ConversationSummaryMemory(\n",
    "    llm=llm,\n",
    "    memory_key=\"recommendation_summary\",\n",
    "    input_key=\"input\",\n",
    "    buffer=f\"The human answered {len(questions)} personal questions. Use them to rate, from 1 to {max_rating}, how much they like a home recommendation.\",\n",
    "    return_messages=True\n",
    ")\n",
    "\n",
    "class MementoBufferMemory(ConversationBufferMemory):\n",
    "    def save_context(self, inputs: Dict[str, Any], outputs: Dict[str, str]) -> None:\n",
    "        input_str, output_str = self._get_input_output(inputs, outputs)\n",
    "        self.chat_memory.add_ai_message(output_str)\n",
    "        \n",
    "conversational_memory = MementoBufferMemory(\n",
    "    chat_memory=history,\n",
    "    memory_key=\"questions_and_answers\",\n",
    "    input_key=\"input\"\n",
    ")\n",
    "\n",
    "memory = CombinedMemory(memories=[conversational_memory, summary_memory])"
   ]
  },
  {
   "cell_type": "code",
   "execution_count": 26,
   "id": "ee496d1c-9609-47f1-abe9-36c693a2ee04",
   "metadata": {},
   "outputs": [],
   "source": [
    "# Retrieve the buyer's responses from the conversation buffer\n",
    "# instead of the harcoded 'answers' list\n",
    "\n",
    "user_responses = []\n",
    "\n",
    "for message in conversational_memory.buffer_as_messages:\n",
    "    if message.type == \"human\":\n",
    "        user_responses.append(message.content)\n",
    "\n",
    "user_preferences = \" \".join(user_responses)\n",
    "\n",
    "similar_docs = db.similarity_search(user_preferences, k=5)\n",
    "\n",
    "recommended_listings = \"\\n\\n---------------------\\n\\n\".join([f\"{doc.page_content}\" for doc in similar_docs])\n"
   ]
  },
  {
   "cell_type": "markdown",
   "id": "5836cf3a-1276-4211-bedc-b36b45d068a5",
   "metadata": {},
   "source": [
    "# 3) Generate the Augmented Response"
   ]
  },
  {
   "cell_type": "markdown",
   "id": "dc7a914b-fc3b-4a2d-9b49-664901f49f76",
   "metadata": {},
   "source": [
    "## a) Run the Search and Augment the Listings' Descriptions"
   ]
  },
  {
   "cell_type": "code",
   "execution_count": 35,
   "id": "c4424425-5a88-48d2-8590-3484e9e280d8",
   "metadata": {
    "scrolled": true
   },
   "outputs": [],
   "source": [
    "RECOMMENDER_TEMPLATE = \"\"\"The following is a friendly conversation between a human and an AI Real Estate Agent. The AI follows human instructions and provides home ratings for a human based on the home preferences. \n",
    "\n",
    "Summary of Recommendations:\n",
    "{recommendation_summary}\n",
    "Buyer's Preferences Q&A:\n",
    "{questions_and_answers}\n",
    "Recommended Listings:\n",
    "{recommended_listings}\n",
    "Human: {input}\n",
    "AI:\"\"\"\n",
    "\n",
    "PROMPT = PromptTemplate.from_template(RECOMMENDER_TEMPLATE).partial(recommended_listings=recommended_listings)\n",
    "\n",
    "# PROMPT = PromptTemplate(\n",
    "#     template=RECOMMENDER_TEMPLATE,\n",
    "#     input_variables=[\"recommended_listings\", \"input\"],\n",
    "#     partial_variables={\"recommendation_summary\": \"recommendation_summary\", \"questions_and_answers\": \"questions_and_answers\"}\n",
    "# )\n",
    "\n",
    "\n",
    "recommender = ConversationChain(llm=llm, verbose=True, memory=memory, prompt=PROMPT)"
   ]
  },
  {
   "cell_type": "markdown",
   "id": "bc2741af-2e09-4c90-a5e0-25197af8f597",
   "metadata": {},
   "source": [
    "## b) Generate Personalized Descriptions"
   ]
  },
  {
   "cell_type": "code",
   "execution_count": 36,
   "id": "3b484539-2079-4c31-94fd-4ed191d389bb",
   "metadata": {},
   "outputs": [],
   "source": [
    "augmented_query = \"\"\"\n",
    "Now score (0-100) each of the 5 listings based on the buyer's preferences. Format the output as follows:\n",
    "\n",
    "Home Match Score: [Score]\n",
    "Neighborhood: [Neighborhood]\n",
    "Price: [Price]\n",
    "Bedrooms: [Bedrooms]\n",
    "Bathrooms: [Bathrooms]\n",
    "Size sqft: [Size sqft]\n",
    "Description: [Personalize both the description and the neighborhood description of the listing based on buyer's preferences. Make sure the modified description is unique, appealing, and tailored to the buyer's provided preferences but keep the modified description factual]\n",
    "\"\"\""
   ]
  },
  {
   "cell_type": "code",
   "execution_count": 37,
   "id": "c9492d27-be89-437b-a8ff-d4dcc88d640b",
   "metadata": {},
   "outputs": [
    {
     "name": "stdout",
     "output_type": "stream",
     "text": [
      "\n",
      "\n",
      "\u001b[1m> Entering new ConversationChain chain...\u001b[0m\n",
      "Prompt after formatting:\n",
      "\u001b[32;1m\u001b[1;3mThe following is a friendly conversation between a human and an AI Real Estate Agent. The AI follows human instructions and provides home ratings for a human based on the home preferences. \n",
      "\n",
      "Summary of Recommendations:\n",
      "[SystemMessage(content='The human answered 4 personal questions. Use them to rate, from 1 to 100, how much they like a home recommendation.')]\n",
      "Buyer's Preferences Q&A:\n",
      "Human: You are AI that will recommend user a new home based on their answers to questions about their home preferences. Ask user 4 questions\n",
      "AI: How big do you want your house to be?What are 3 most important things for you in choosing this property?\n",
      "Human: A comfortable three-bedroom house with a spacious kitchen and a cozy living room.\n",
      "AI: Which amenities would you like?\n",
      "Human: A quiet neighborhood, good local schools, and convenient shopping options.\n",
      "AI: Which transportation options are important to you?\n",
      "Human: A backyard for gardening, a two-car garage, and a modern, energy-efficient heating system.\n",
      "AI: How urban do you want your neighborhood to be?\n",
      "Human: Easy access to a reliable bus line, proximity to a major highway, and bike-friendly roads.\n",
      "Recommended Listings:\n",
      "Neighborhood: Meadowbrook Estates\n",
      "Price: $750,000\n",
      "Bedrooms: 4\n",
      "Bathrooms: 3\n",
      "House Size: 2,500 sqft\n",
      "Description: Discover this spacious 4-bedroom, 3-bathroom home located in the peaceful neighborhood of Meadowbrook Estates. This property features a gourmet kitchen with granite countertops, a cozy fireplace in the living room, and a private backyard with a patio and garden. The master suite offers a relaxing retreat with a spa-like bathroom and a walk-in closet.\n",
      "Neighborhood Description: Meadowbrook Estates is a family-friendly community with parks, playgrounds, and walking trails for outdoor activities. Residents can enjoy the nearby shopping centers, restaurants, and schools, as well as easy access to highways and public transportation for commuting to work or exploring the city.\n",
      "\n",
      "---------------------\n",
      "\n",
      "Neighborhood: Riverside Gardens\n",
      "Price: $950,000\n",
      "Bedrooms: 4\n",
      "Bathrooms: 3\n",
      "House Size: 2,800 sqft\n",
      "Description: Live in luxury in this 4-bedroom, 3-bathroom home located in the prestigious neighborhood of Riverside Gardens. This property features a grand entrance, high ceilings, and a gourmet kitchen with top-of-the-line appliances. The master suite offers a private balcony with river views, a spa-like bathroom, and a walk-in closet. The backyard is an entertainer's dream with a pool, spa, and outdoor kitchen.\n",
      "Neighborhood Description: Riverside Gardens offers upscale living with waterfront views and access to boating and fishing activities. Residents can enjoy the nearby marina, yacht club, and fine dining options, as well as easy access to shopping centers and entertainment venues. With top-rated schools and recreational facilities in the area, this neighborhood is perfect for those seeking a blend of luxury and convenience.\n",
      "\n",
      "---------------------\n",
      "\n",
      "Neighborhood: Sunrise Meadows\n",
      "Price: $700,000\n",
      "Bedrooms: 4\n",
      "Bathrooms: 3\n",
      "House Size: 2,300 sqft\n",
      "Description: Welcome home to this spacious 4-bedroom, 3-bathroom property in the charming neighborhood of Sunrise Meadows. This home features a bright and open floor plan with a gourmet kitchen, a cozy fireplace in the family room, and a private backyard with a patio and garden. The master suite offers a peaceful sanctuary with a spa-like bathroom and a walk-in closet.\n",
      "Neighborhood Description: Sunrise Meadows is a family-friendly community with parks, playgrounds, and walking trails for outdoor activities. Residents can enjoy the nearby shopping centers, restaurants, and schools, as well as easy access to highways and public transportation for commuting to work or exploring the city.\n",
      "\n",
      "---------------------\n",
      "\n",
      "Neighborhood: Maple Grove\n",
      "Price: $600,000\n",
      "Bedrooms: 3\n",
      "Bathrooms: 2\n",
      "House Size: 1,700 sqft\n",
      "Description: Step into this charming 3-bedroom, 2-bathroom home located in the desirable neighborhood of Maple Grove. This property features a renovated kitchen with quartz countertops, a cozy fireplace in the living room, and a private backyard with a deck and garden. The master bedroom offers a peaceful retreat with a spa-like bathroom and a walk-in closet.\n",
      "Neighborhood Description: Maple Grove is a family-friendly community with tree-lined streets and parks for outdoor recreation. Residents can enjoy the nearby community center, playgrounds, and walking trails, as well as easy access to schools and shopping centers.\n",
      "\n",
      "---------------------\n",
      "\n",
      "Neighborhood: Willow Creek\n",
      "Price: $750,000\n",
      "Bedrooms: 4\n",
      "Bathrooms: 3\n",
      "House Size: 2,500 sqft\n",
      "Description: Step into this spacious 4-bedroom, 3-bathroom home located in the serene neighborhood of Willow Creek. This property features a newly renovated kitchen with stainless steel appliances, a cozy fireplace in the living room, and a large deck overlooking the lush backyard. With ample natural light and a functional layout, this home is perfect for families looking for comfort and style.\n",
      "Neighborhood Description: Willow Creek offers a peaceful setting with tree-lined streets and easy access to parks and walking trails. Enjoy the convenience of nearby shopping centers and restaurants, as well as top-rated schools in the area.\n",
      "Human: \n",
      "Now score (0-100) each of the 5 listings based on the buyer's preferences. Format the output as follows:\n",
      "\n",
      "Home Match Score: [Score]\n",
      "Neighborhood: [Neighborhood]\n",
      "Price: [Price]\n",
      "Bedrooms: [Bedrooms]\n",
      "Bathrooms: [Bathrooms]\n",
      "Size sqft: [Size sqft]\n",
      "Description: [Personalize both the description and the neighborhood description of the listing based on buyer's preferences. Make sure the modified description is unique, appealing, and tailored to the buyer's provided preferences but keep the modified description factual]\n",
      "\n",
      "AI:\u001b[0m\n",
      "\n",
      "\u001b[1m> Finished chain.\u001b[0m\n",
      "Home Match Score: 90\n",
      "Neighborhood: Meadowbrook Estates\n",
      "Price: $750,000\n",
      "Bedrooms: 4\n",
      "Bathrooms: 3\n",
      "Size sqft: 2,500 sqft\n",
      "Description: Embrace the comfort and space of this 4-bedroom, 3-bathroom home in Meadowbrook Estates. The gourmet kitchen with granite countertops is perfect for preparing family meals, while the cozy fireplace in the living room creates a warm atmosphere for relaxation. Step outside to the private backyard with a patio and garden, ideal for enjoying outdoor activities and gardening. The master suite offers a spa-like bathroom and a walk-in closet for a peaceful retreat after a long day.\n",
      "Neighborhood Description: Meadowbrook Estates is a peaceful and family-friendly community with parks, playgrounds, and walking trails for outdoor enjoyment. Conveniently located near shopping centers, restaurants, and schools, this neighborhood offers a serene environment with easy access to highways and public transportation.\n",
      "\n",
      "Home Match Score: 85\n",
      "Neighborhood: Riverside Gardens\n",
      "Price: $950,000\n",
      "Bedrooms: 4\n",
      "Bathrooms: 3\n",
      "Size sqft: 2,800 sqft\n",
      "Description: Indulge in luxury living in this 4-bedroom, 3-bathroom home in Riverside Gardens. The grand entrance and high ceilings create a sense of elegance, while the gourmet kitchen with top-of-the-line appliances is a chef's dream. Relax in the master suite with a private balcony offering river views, a spa-like bathroom, and a walk-in closet. The backyard oasis with a pool, spa, and outdoor kitchen is perfect for entertaining guests and enjoying the waterfront lifestyle.\n",
      "Neighborhood Description: Riverside Gardens offers upscale living with waterfront views and access to boating and fishing activities. With a marina, yacht club, and fine dining options nearby, residents can experience luxury living with convenience. Top-rated schools and recreational facilities make this neighborhood ideal for those seeking a blend of sophistication and leisure.\n",
      "\n",
      "Home Match Score: 80\n",
      "Neighborhood: Sunrise Meadows\n",
      "Price: $700,000\n",
      "Bedrooms: 4\n",
      "Bathrooms: 3\n",
      "Size sqft: 2,300 sqft\n",
      "Description: Find your perfect family home in Sunrise Meadows with this spacious 4-bedroom, 3-bathroom property. The bright and open floor plan, gourmet kitchen, and cozy fireplace in the family room create a welcoming atmosphere for gatherings. Step outside to the private backyard with a patio and garden, ideal for outdoor activities and relaxation. The master suite offers a spa-like bathroom and a walk-in closet for a peaceful retreat.\n",
      "Neighborhood Description: Sunrise Meadows is a charming and family-friendly community with parks, playgrounds, and walking trails for outdoor fun. Conveniently located near shopping centers, restaurants, and schools, this neighborhood provides a welcoming environment with easy access to highways and public transportation.\n",
      "\n",
      "Home Match Score: 75\n",
      "Neighborhood: Maple Grove\n",
      "Price: $600,000\n",
      "Bedrooms: 3\n",
      "Bathrooms: 2\n",
      "Size sqft: 1,700 sqft\n",
      "Description: Experience the charm of this 3-bedroom, 2-bathroom home in Maple Grove. The renovated kitchen with quartz countertops is perfect for cooking, while the cozy fireplace in the living room adds warmth to the space. Step outside to the private backyard with a deck and garden, ideal for outdoor relaxation and gardening. The master bedroom offers a spa-like bathroom and a walk-in closet for a peaceful retreat.\n",
      "Neighborhood Description: Maple Grove is a family-friendly community with tree-lined streets and parks for outdoor activities. Residents can enjoy the community center, playgrounds, and walking trails nearby, as well as easy access to schools and shopping centers.\n",
      "\n",
      "Home Match Score: 70\n",
      "Neighborhood: Willow Creek\n",
      "Price: $750,000\n",
      "Bedrooms: 4\n",
      "Bathrooms: 3\n",
      "Size sqft: 2,500 sqft\n",
      "Description: Enjoy comfort and style in this spacious 4-bedroom, 3-bathroom home in Willow Creek. The newly renovated kitchen with stainless steel appliances and the cozy fireplace in the living room create a modern and inviting space for families. Step outside to the large deck overlooking the lush backyard, perfect for outdoor gatherings and relaxation. With ample natural light and a functional layout, this home offers a blend of comfort and style for everyday living.\n",
      "Neighborhood Description: Willow Creek offers a peaceful setting with tree-lined streets and easy access to parks and walking trails. Residents can enjoy the convenience of nearby shopping centers and restaurants, as well as top-rated schools in the area.\n"
     ]
    }
   ],
   "source": [
    "personalized_recommendation = recommender.predict(input=augmented_query)\n",
    "print(personalized_recommendation)"
   ]
  },
  {
   "cell_type": "code",
   "execution_count": null,
   "id": "f2968179-9b85-43de-9668-86dfdbfccb69",
   "metadata": {},
   "outputs": [],
   "source": []
  }
 ],
 "metadata": {
  "kernelspec": {
   "display_name": "Python 3 (ipykernel)",
   "language": "python",
   "name": "python3"
  },
  "language_info": {
   "codemirror_mode": {
    "name": "ipython",
    "version": 3
   },
   "file_extension": ".py",
   "mimetype": "text/x-python",
   "name": "python",
   "nbconvert_exporter": "python",
   "pygments_lexer": "ipython3",
   "version": "3.10.9"
  }
 },
 "nbformat": 4,
 "nbformat_minor": 5
}
